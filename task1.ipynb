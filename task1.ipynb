{
 "cells": [
  {
   "cell_type": "code",
   "execution_count": 1,
   "id": "e9945f2a-696d-4bbc-a4d5-58d8962d76fb",
   "metadata": {},
   "outputs": [
    {
     "name": "stdout",
     "output_type": "stream",
     "text": [
      "updated list: [10, 2, 3, 4, 6, 9]\n"
     ]
    }
   ],
   "source": [
    "#creating a list \n",
    "my_list = [ 1,2,3,4,5,6]\n",
    "\n",
    "#adding an element to the list \n",
    "my_list.append (9)\n",
    "\n",
    "#removing an element from the list \n",
    "my_list.remove (5)\n",
    "\n",
    "#modifying an element\n",
    "my_list [0] = 10\n",
    "\n",
    "print (\"updated list:\" , my_list)"
   ]
  },
  {
   "cell_type": "code",
   "execution_count": 6,
   "id": "e6405a80-8baf-45bd-85aa-9dab389ffc19",
   "metadata": {},
   "outputs": [
    {
     "name": "stdout",
     "output_type": "stream",
     "text": [
      "udpated Dictionary: {'name': 'ghost', 'age': 19, 'city': 'Baleswar', 'gender': 'Male'}\n"
     ]
    }
   ],
   "source": [
    "#creating dictionary\n",
    "my_dict = {'name': 'ghost', 'age': 19, 'city': 'Bhubneshwar' }\n",
    "\n",
    "#adding\n",
    "my_dict[ 'gender' ] = 'Male'\n",
    "\n",
    "#removing \n",
    "my_dict[ 'age' ] \n",
    "\n",
    "#modifying\n",
    "my_dict[ 'city' ] = 'Baleswar'\n",
    "\n",
    "print(\"udpated Dictionary:\" , my_dict) "
   ]
  },
  {
   "cell_type": "code",
   "execution_count": 8,
   "id": "47ed7b3f-ab74-4a32-b5cc-f64816e1cf24",
   "metadata": {},
   "outputs": [
    {
     "name": "stdout",
     "output_type": "stream",
     "text": [
      "updated set: {'oneplus', 'vivo', 'samsung', 'iqoo', 'iphone'}\n"
     ]
    }
   ],
   "source": [
    "#creating a set \n",
    "my_set = { 'vivo', 'iqoo', 'oneplus', 'oppo', 'realme'}\n",
    "\n",
    "#adding \n",
    "my_set.add('iphone')\n",
    "\n",
    "#removing\n",
    "my_set.remove('oppo')\n",
    "\n",
    "#modifying\n",
    "my_set.discard('realme')\n",
    "my_set.add('samsung')\n",
    "\n",
    "print(\"updated set:\" , my_set)"
   ]
  },
  {
   "cell_type": "code",
   "execution_count": null,
   "id": "b93a8491-a53f-4c2d-8ecd-f4e152940456",
   "metadata": {},
   "outputs": [],
   "source": []
  }
 ],
 "metadata": {
  "kernelspec": {
   "display_name": "Python 3 (ipykernel)",
   "language": "python",
   "name": "python3"
  },
  "language_info": {
   "codemirror_mode": {
    "name": "ipython",
    "version": 3
   },
   "file_extension": ".py",
   "mimetype": "text/x-python",
   "name": "python",
   "nbconvert_exporter": "python",
   "pygments_lexer": "ipython3",
   "version": "3.12.3"
  }
 },
 "nbformat": 4,
 "nbformat_minor": 5
}
